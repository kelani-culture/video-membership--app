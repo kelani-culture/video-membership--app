{
 "cells": [
  {
   "cell_type": "code",
   "execution_count": 16,
   "id": "8b3a6e63-a605-43e8-a843-2bbcd472a323",
   "metadata": {},
   "outputs": [
    {
     "name": "stdout",
     "output_type": "stream",
     "text": [
      "/home/null/Documents/video-membership\n"
     ]
    }
   ],
   "source": [
    "!pwd"
   ]
  },
  {
   "cell_type": "code",
   "execution_count": 24,
   "id": "62d46cc3-f4ad-42ee-b7e9-f99208cd3030",
   "metadata": {},
   "outputs": [],
   "source": [
    "from app.users.model import User\n",
    "from app import db\n",
    "from cassandra.cqlengine.management import sync_table"
   ]
  },
  {
   "cell_type": "code",
   "execution_count": 26,
   "id": "7cff0b88-d87c-4feb-b56f-ca15a86edc8d",
   "metadata": {},
   "outputs": [],
   "source": [
    "db.get_session()\n",
    "sync_table(User)\n"
   ]
  },
  {
   "cell_type": "code",
   "execution_count": null,
   "id": "845744af-596c-4442-a4e9-37e103c45e25",
   "metadata": {},
   "outputs": [],
   "source": []
  }
 ],
 "metadata": {
  "kernelspec": {
   "display_name": "Python 3 (ipykernel)",
   "language": "python",
   "name": "python3"
  },
  "language_info": {
   "codemirror_mode": {
    "name": "ipython",
    "version": 3
   },
   "file_extension": ".py",
   "mimetype": "text/x-python",
   "name": "python",
   "nbconvert_exporter": "python",
   "pygments_lexer": "ipython3",
   "version": "3.11.8"
  }
 },
 "nbformat": 4,
 "nbformat_minor": 5
}
